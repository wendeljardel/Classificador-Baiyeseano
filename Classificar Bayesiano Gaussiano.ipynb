{
 "cells": [
  {
   "cell_type": "code",
   "execution_count": 1,
   "metadata": {},
   "outputs": [],
   "source": [
    "import pandas as pd\n",
    "import numpy as np"
   ]
  },
  {
   "cell_type": "code",
   "execution_count": 2,
   "metadata": {},
   "outputs": [],
   "source": [
    "iris = pd.read_csv('iris.data.txt',names=['sepal_length','sepal_width','petal_length','petal_width','class'])"
   ]
  },
  {
   "cell_type": "code",
   "execution_count": 3,
   "metadata": {},
   "outputs": [],
   "source": [
    "iris_copy = iris.copy()\n",
    "train = iris_copy.sample(frac=0.80, random_state=1)\n",
    "test = iris_copy.drop(train.index)"
   ]
  },
  {
   "cell_type": "code",
   "execution_count": null,
   "metadata": {},
   "outputs": [],
   "source": []
  },
  {
   "cell_type": "code",
   "execution_count": 4,
   "metadata": {},
   "outputs": [],
   "source": [
    "import math\n",
    "def calculateProbability(x, cov_matrix, means, d):\n",
    "    det = np.linalg.det(cov_matrix)\n",
    "    inverse = np.linalg.inv(cov_matrix)\n",
    "    a = x - means\n",
    "    k = np.dot(np.transpose(a),inverse)\n",
    "    expoent = math.exp(-1/2*np.dot(k,a))\n",
    "    return expoent/((2*math.pi)**d/2 * math.sqrt(abs(det)))"
   ]
  },
  {
   "cell_type": "code",
   "execution_count": 5,
   "metadata": {},
   "outputs": [],
   "source": [
    "setosa = train[train['class'] == 0]\n",
    "versicolor = train[train['class'] == 1]\n",
    "virginica = train[train['class'] == 2]"
   ]
  },
  {
   "cell_type": "code",
   "execution_count": 6,
   "metadata": {},
   "outputs": [],
   "source": [
    "mean_setosa = np.array(setosa.iloc[0:,:4].mean())\n",
    "mean_versiciolor = np.array(virginica.iloc[0:,:4].mean())\n",
    "mean_viriginica = np.array(versicolor.iloc[0:,:4].mean())"
   ]
  },
  {
   "cell_type": "code",
   "execution_count": 7,
   "metadata": {},
   "outputs": [],
   "source": [
    "cov_matrix_setosa = np.cov(np.transpose(setosa.iloc[0:,:4]))\n",
    "cov_matrix_versicolor = np.cov(np.transpose(versicolor.iloc[0:,:4]))\n",
    "cov_matrix_virginica = np.cov(np.transpose(virginica.iloc[0:,:4]))"
   ]
  },
  {
   "cell_type": "code",
   "execution_count": 148,
   "metadata": {},
   "outputs": [],
   "source": [
    "import operator\n",
    "def predict(X,cov_matrices,means,nattr,classes):\n",
    "    probabilities = {}\n",
    "    for i in range(classes):\n",
    "        prob = calculateProbability(X, cov_matrices[i],means[i],nattr)\n",
    "        probabilities[i] =  prob\n",
    "    return max(probabilities.items(), key=operator.itemgetter(1))[0]   "
   ]
  },
  {
   "cell_type": "code",
   "execution_count": 9,
   "metadata": {},
   "outputs": [],
   "source": [
    "cov_matrices = [cov_matrix_setosa,cov_matrix_versicolor,cov_matrix_virginica]\n",
    "means = [mean_setosa,mean_versiciolor,mean_viriginica]"
   ]
  },
  {
   "cell_type": "code",
   "execution_count": 10,
   "metadata": {},
   "outputs": [],
   "source": [
    "predictions = []\n",
    "for i in test.iloc[0:,:4].values:\n",
    "    d = predict(i,cov_matrices,means,4,3)\n",
    "    predictions.append(d)"
   ]
  },
  {
   "cell_type": "code",
   "execution_count": 11,
   "metadata": {},
   "outputs": [
    {
     "ename": "NameError",
     "evalue": "name 'getAccuracy' is not defined",
     "output_type": "error",
     "traceback": [
      "\u001b[0;31m---------------------------------------------------------------------------\u001b[0m",
      "\u001b[0;31mNameError\u001b[0m                                 Traceback (most recent call last)",
      "\u001b[0;32m<ipython-input-11-8ea0b51f8a5d>\u001b[0m in \u001b[0;36m<module>\u001b[0;34m\u001b[0m\n\u001b[0;32m----> 1\u001b[0;31m \u001b[0mgetAccuracy\u001b[0m\u001b[0;34m(\u001b[0m\u001b[0mtest\u001b[0m\u001b[0;34m.\u001b[0m\u001b[0mvalues\u001b[0m\u001b[0;34m,\u001b[0m\u001b[0mpredictions\u001b[0m\u001b[0;34m)\u001b[0m\u001b[0;34m\u001b[0m\u001b[0;34m\u001b[0m\u001b[0m\n\u001b[0m",
      "\u001b[0;31mNameError\u001b[0m: name 'getAccuracy' is not defined"
     ]
    }
   ],
   "source": [
    "getAccuracy(test.values,predictions)"
   ]
  },
  {
   "cell_type": "code",
   "execution_count": 58,
   "metadata": {},
   "outputs": [],
   "source": [
    "accuracies = []\n",
    "#realizações\n",
    "for i in range(20):\n",
    "    iris_copy = iris.copy()\n",
    "    train = iris_copy.sample(frac=0.80, random_state=i)\n",
    "    test = iris_copy.drop(train.index)\n",
    "    #separando classes\n",
    "    setosa = train[train['class'] == 0]\n",
    "    versicolor = train[train['class'] == 1]\n",
    "    virginica = train[train['class'] == 2]\n",
    "    #separando médias por classe\n",
    "    mean_setosa = np.array(setosa.iloc[0:,:4].mean())\n",
    "    mean_versiciolor = np.array(virginica.iloc[0:,:4].mean())\n",
    "    mean_viriginica = np.array(versicolor.iloc[0:,:4].mean())\n",
    "    #separando matrizes de covariancia por classe\n",
    "    cov_matrix_setosa = np.cov(np.transpose(setosa.iloc[0:,:4]))\n",
    "    cov_matrix_versicolor = np.cov(np.transpose(versicolor.iloc[0:,:4]))\n",
    "    cov_matrix_virginica = np.cov(np.transpose(virginica.iloc[0:,:4]))\n",
    "    #array de matrizes de covariancias\n",
    "    cov_matrices = [cov_matrix_setosa,cov_matrix_versicolor,cov_matrix_virginica]\n",
    "    #array de medias\n",
    "    means = [mean_setosa,mean_versiciolor,mean_viriginica]\n",
    "    predictions = []\n",
    "    for i in test.iloc[0:,:4].values:\n",
    "        d = predict(i,cov_matrices,means,4,3)\n",
    "        predictions.append(d)\n",
    "    a = getAccuracy(test.values,predictions)\n",
    "    accuracies.append(a)"
   ]
  },
  {
   "cell_type": "code",
   "execution_count": 59,
   "metadata": {},
   "outputs": [
    {
     "data": {
      "text/plain": [
       "36.83333333333333"
      ]
     },
     "execution_count": 59,
     "metadata": {},
     "output_type": "execute_result"
    }
   ],
   "source": [
    "np.mean(accuracies)"
   ]
  },
  {
   "cell_type": "code",
   "execution_count": 60,
   "metadata": {},
   "outputs": [],
   "source": [
    "def getAccuracy(testSet, predictions):\n",
    "    correct = 0\n",
    "    for x in range(len(testSet)):\n",
    "        if testSet[x][-1] == predictions[x]:\n",
    "            correct += 1\n",
    "    return (correct/float(len(testSet))) * 100.0"
   ]
  },
  {
   "cell_type": "markdown",
   "metadata": {},
   "source": [
    "## Vertebral column Dataset"
   ]
  },
  {
   "cell_type": "code",
   "execution_count": 149,
   "metadata": {},
   "outputs": [],
   "source": [
    "from scipy.io import arff"
   ]
  },
  {
   "cell_type": "code",
   "execution_count": 150,
   "metadata": {},
   "outputs": [],
   "source": [
    "data = arff.loadarff('column_3C_weka.arff')\n",
    "df = pd.DataFrame(data[0])"
   ]
  },
  {
   "cell_type": "code",
   "execution_count": 151,
   "metadata": {},
   "outputs": [
    {
     "data": {
      "text/html": [
       "<div>\n",
       "<style scoped>\n",
       "    .dataframe tbody tr th:only-of-type {\n",
       "        vertical-align: middle;\n",
       "    }\n",
       "\n",
       "    .dataframe tbody tr th {\n",
       "        vertical-align: top;\n",
       "    }\n",
       "\n",
       "    .dataframe thead th {\n",
       "        text-align: right;\n",
       "    }\n",
       "</style>\n",
       "<table border=\"1\" class=\"dataframe\">\n",
       "  <thead>\n",
       "    <tr style=\"text-align: right;\">\n",
       "      <th></th>\n",
       "      <th>pelvic_incidence</th>\n",
       "      <th>pelvic_tilt</th>\n",
       "      <th>lumbar_lordosis_angle</th>\n",
       "      <th>sacral_slope</th>\n",
       "      <th>pelvic_radius</th>\n",
       "      <th>degree_1</th>\n",
       "      <th>class</th>\n",
       "    </tr>\n",
       "  </thead>\n",
       "  <tbody>\n",
       "    <tr>\n",
       "      <th>0</th>\n",
       "      <td>63.027817</td>\n",
       "      <td>22.552586</td>\n",
       "      <td>39.609117</td>\n",
       "      <td>40.475232</td>\n",
       "      <td>98.672917</td>\n",
       "      <td>-0.254400</td>\n",
       "      <td>b'0'</td>\n",
       "    </tr>\n",
       "    <tr>\n",
       "      <th>1</th>\n",
       "      <td>39.056951</td>\n",
       "      <td>10.060991</td>\n",
       "      <td>25.015378</td>\n",
       "      <td>28.995960</td>\n",
       "      <td>114.405425</td>\n",
       "      <td>4.564259</td>\n",
       "      <td>b'0'</td>\n",
       "    </tr>\n",
       "    <tr>\n",
       "      <th>2</th>\n",
       "      <td>68.832021</td>\n",
       "      <td>22.218482</td>\n",
       "      <td>50.092194</td>\n",
       "      <td>46.613539</td>\n",
       "      <td>105.985135</td>\n",
       "      <td>-3.530317</td>\n",
       "      <td>b'0'</td>\n",
       "    </tr>\n",
       "    <tr>\n",
       "      <th>3</th>\n",
       "      <td>69.297008</td>\n",
       "      <td>24.652878</td>\n",
       "      <td>44.311238</td>\n",
       "      <td>44.644130</td>\n",
       "      <td>101.868495</td>\n",
       "      <td>11.211523</td>\n",
       "      <td>b'0'</td>\n",
       "    </tr>\n",
       "    <tr>\n",
       "      <th>4</th>\n",
       "      <td>49.712859</td>\n",
       "      <td>9.652075</td>\n",
       "      <td>28.317406</td>\n",
       "      <td>40.060784</td>\n",
       "      <td>108.168725</td>\n",
       "      <td>7.918501</td>\n",
       "      <td>b'0'</td>\n",
       "    </tr>\n",
       "  </tbody>\n",
       "</table>\n",
       "</div>"
      ],
      "text/plain": [
       "   pelvic_incidence  pelvic_tilt  lumbar_lordosis_angle  sacral_slope  \\\n",
       "0         63.027817    22.552586              39.609117     40.475232   \n",
       "1         39.056951    10.060991              25.015378     28.995960   \n",
       "2         68.832021    22.218482              50.092194     46.613539   \n",
       "3         69.297008    24.652878              44.311238     44.644130   \n",
       "4         49.712859     9.652075              28.317406     40.060784   \n",
       "\n",
       "   pelvic_radius   degree_1 class  \n",
       "0      98.672917  -0.254400  b'0'  \n",
       "1     114.405425   4.564259  b'0'  \n",
       "2     105.985135  -3.530317  b'0'  \n",
       "3     101.868495  11.211523  b'0'  \n",
       "4     108.168725   7.918501  b'0'  "
      ]
     },
     "execution_count": 151,
     "metadata": {},
     "output_type": "execute_result"
    }
   ],
   "source": [
    "df.head()"
   ]
  },
  {
   "cell_type": "code",
   "execution_count": 152,
   "metadata": {},
   "outputs": [],
   "source": [
    "df['class'] = pd.to_numeric(df['class'])"
   ]
  },
  {
   "cell_type": "code",
   "execution_count": 153,
   "metadata": {},
   "outputs": [],
   "source": [
    "df_copy = df.copy()\n",
    "train = df_copy.sample(frac=0.80, random_state=2)\n",
    "test = df_copy.drop(train.index)"
   ]
  },
  {
   "cell_type": "code",
   "execution_count": 154,
   "metadata": {},
   "outputs": [],
   "source": [
    "DH = train[train['class'] == 0]\n",
    "SL = train[train['class'] == 1]\n",
    "N = train[train['class'] == 2]\n"
   ]
  },
  {
   "cell_type": "code",
   "execution_count": 155,
   "metadata": {},
   "outputs": [],
   "source": [
    "mean_DH = np.array(DH.iloc[0:,:6].mean())\n",
    "mean_SL = np.array(SL.iloc[0:,:6].mean())\n",
    "mean_N = np.array(N.iloc[0:,:6].mean())"
   ]
  },
  {
   "cell_type": "code",
   "execution_count": 156,
   "metadata": {},
   "outputs": [],
   "source": [
    "cov_matrix_DH = np.cov(np.transpose(DH.iloc[0:,:6]))\n",
    "cov_matrix_SL = np.cov(np.transpose(SL.iloc[0:,:6]))\n",
    "cov_matrix_N = np.cov(np.transpose(N.iloc[0:,:6]))"
   ]
  },
  {
   "cell_type": "code",
   "execution_count": 157,
   "metadata": {},
   "outputs": [],
   "source": [
    "cov_matrices = [cov_matrix_DH,cov_matrix_SL,cov_matrix_N]\n",
    "means = [mean_DH,mean_SL,mean_N]"
   ]
  },
  {
   "cell_type": "code",
   "execution_count": 158,
   "metadata": {},
   "outputs": [
    {
     "data": {
      "text/plain": [
       "0"
      ]
     },
     "execution_count": 158,
     "metadata": {},
     "output_type": "execute_result"
    }
   ],
   "source": [
    "predict(test.iloc[0:,:6].values[1],cov_matrices,means,6,3)"
   ]
  },
  {
   "cell_type": "code",
   "execution_count": 159,
   "metadata": {},
   "outputs": [],
   "source": [
    "predictions = []\n",
    "for i in test.iloc[0:,:6].values:\n",
    "    d = predict(i,cov_matrices,means,6,3)\n",
    "    predictions.append(d)"
   ]
  },
  {
   "cell_type": "code",
   "execution_count": 160,
   "metadata": {},
   "outputs": [
    {
     "data": {
      "text/plain": [
       "87.09677419354838"
      ]
     },
     "execution_count": 160,
     "metadata": {},
     "output_type": "execute_result"
    }
   ],
   "source": [
    "getAccuracy(test.values,predictions)"
   ]
  },
  {
   "cell_type": "code",
   "execution_count": 161,
   "metadata": {},
   "outputs": [],
   "source": [
    "accuracies = []\n",
    "#realizações\n",
    "for i in range(20):\n",
    "    df_copy = df.copy()\n",
    "    train = df_copy.sample(frac=0.80, random_state=i)\n",
    "    test = df_copy.drop(train.index)\n",
    "    #separando classes\n",
    "    DH = train[train['class'] == 0]\n",
    "    SL = train[train['class'] == 1]\n",
    "    N = train[train['class'] == 2]\n",
    "    #separando médias por classe\n",
    "    mean_DH = np.array(DH.iloc[0:,:6].mean())\n",
    "    mean_SL = np.array(SL.iloc[0:,:6].mean())\n",
    "    mean_N = np.array(N.iloc[0:,:6].mean())\n",
    "    #separando matrizes de covariancia por classe\n",
    "    cov_matrix_DH = np.cov(np.transpose(DH.iloc[0:,:6]))\n",
    "    cov_matrix_SL = np.cov(np.transpose(SL.iloc[0:,:6]))\n",
    "    cov_matrix_N = np.cov(np.transpose(N.iloc[0:,:6]))\n",
    "    #array de matrizes de covariancias\n",
    "    cov_matrices = [cov_matrix_DH,cov_matrix_SL,cov_matrix_N]\n",
    "    #array de medias\n",
    "    means = [mean_DH,mean_SL,mean_N]\n",
    "    predictions = []\n",
    "    predictions = []\n",
    "    for i in test.iloc[0:,:6].values:\n",
    "        d = predict(i,cov_matrices,means,6,3)\n",
    "        predictions.append(d)\n",
    "    a = getAccuracy(test.values,predictions)\n",
    "    accuracies.append(a)"
   ]
  },
  {
   "cell_type": "code",
   "execution_count": 162,
   "metadata": {},
   "outputs": [
    {
     "data": {
      "text/plain": [
       "81.7741935483871"
      ]
     },
     "execution_count": 162,
     "metadata": {},
     "output_type": "execute_result"
    }
   ],
   "source": [
    "np.mean(accuracies)"
   ]
  },
  {
   "cell_type": "code",
   "execution_count": 163,
   "metadata": {},
   "outputs": [
    {
     "data": {
      "text/plain": [
       "5.542851702399865"
      ]
     },
     "execution_count": 163,
     "metadata": {},
     "output_type": "execute_result"
    }
   ],
   "source": [
    "np.std(accuracies)"
   ]
  },
  {
   "cell_type": "code",
   "execution_count": 164,
   "metadata": {},
   "outputs": [
    {
     "data": {
      "text/plain": [
       "[79.03225806451613,\n",
       " 80.64516129032258,\n",
       " 87.09677419354838,\n",
       " 88.70967741935483,\n",
       " 82.25806451612904,\n",
       " 82.25806451612904,\n",
       " 83.87096774193549,\n",
       " 83.87096774193549,\n",
       " 72.58064516129032,\n",
       " 88.70967741935483,\n",
       " 80.64516129032258,\n",
       " 77.41935483870968,\n",
       " 77.41935483870968,\n",
       " 85.48387096774194,\n",
       " 85.48387096774194,\n",
       " 83.87096774193549,\n",
       " 83.87096774193549,\n",
       " 82.25806451612904,\n",
       " 64.51612903225806,\n",
       " 85.48387096774194]"
      ]
     },
     "execution_count": 164,
     "metadata": {},
     "output_type": "execute_result"
    }
   ],
   "source": [
    "accuracies"
   ]
  },
  {
   "cell_type": "markdown",
   "metadata": {},
   "source": [
    "## Artificial Dataset"
   ]
  },
  {
   "cell_type": "code",
   "execution_count": 80,
   "metadata": {},
   "outputs": [],
   "source": [
    "features_1 = np.array([[np.random.uniform(-0.1, 0.1), np.random.uniform(-0.1, 0.1), 0] for _ in range(50)])\n",
    "features_2 = np.array([[np.random.uniform(-0.1, 0.1), np.random.uniform(0.9, 1.1), 1] for _ in range(50)])\n",
    "features_3 = np.array([[np.random.uniform(0.9, 1.1), np.random.uniform(-0.1, 0.1), 2] for _ in range(50)])\n"
   ]
  },
  {
   "cell_type": "code",
   "execution_count": 81,
   "metadata": {},
   "outputs": [],
   "source": [
    "dataset = np.concatenate([features_1, features_2, features_3], axis=0)"
   ]
  },
  {
   "cell_type": "code",
   "execution_count": 82,
   "metadata": {},
   "outputs": [],
   "source": [
    "art = pd.DataFrame(dataset)"
   ]
  },
  {
   "cell_type": "code",
   "execution_count": 83,
   "metadata": {},
   "outputs": [],
   "source": [
    "art_copy = art.copy()\n",
    "train = art_copy.sample(frac=0.80, random_state=2)\n",
    "test = art_copy.drop(train.index)"
   ]
  },
  {
   "cell_type": "code",
   "execution_count": 84,
   "metadata": {},
   "outputs": [],
   "source": [
    "class_1 = train[train[2] == 0]\n",
    "class_2 = train[train[2] == 1]\n",
    "class_3 = train[train[2] == 2]"
   ]
  },
  {
   "cell_type": "code",
   "execution_count": 85,
   "metadata": {},
   "outputs": [],
   "source": [
    "mean_class_1 = np.array(class_1.iloc[0:,:2].mean())\n",
    "mean_class_2 = np.array(class_2.iloc[0:,:2].mean())\n",
    "mean_class_3 = np.array(class_3.iloc[0:,:2].mean())"
   ]
  },
  {
   "cell_type": "code",
   "execution_count": 86,
   "metadata": {},
   "outputs": [],
   "source": [
    "cov_matrix_class_1 = np.cov(np.transpose(class_1.iloc[0:,:2]))\n",
    "cov_matrix_class_2 = np.cov(np.transpose(class_2.iloc[0:,:2]))\n",
    "cov_matrix_class_3 = np.cov(np.transpose(class_3.iloc[0:,:2]))"
   ]
  },
  {
   "cell_type": "code",
   "execution_count": 87,
   "metadata": {},
   "outputs": [],
   "source": [
    "cov_matrices = [cov_matrix_class_1,cov_matrix_class_2,cov_matrix_class_3]\n",
    "means = [mean_class_1,mean_class_2,mean_class_3]"
   ]
  },
  {
   "cell_type": "code",
   "execution_count": 88,
   "metadata": {},
   "outputs": [],
   "source": [
    "predictions = []\n",
    "for i in test.iloc[0:,:2].values:\n",
    "    d = predict(i,cov_matrices,means,2,3)\n",
    "    predictions.append(d)"
   ]
  },
  {
   "cell_type": "code",
   "execution_count": 91,
   "metadata": {},
   "outputs": [
    {
     "data": {
      "text/plain": [
       "100.0"
      ]
     },
     "execution_count": 91,
     "metadata": {},
     "output_type": "execute_result"
    }
   ],
   "source": [
    "getAccuracy(test.values,predictions)"
   ]
  },
  {
   "cell_type": "code",
   "execution_count": 92,
   "metadata": {},
   "outputs": [
    {
     "data": {
      "text/plain": [
       "5.542851702399865"
      ]
     },
     "execution_count": 92,
     "metadata": {},
     "output_type": "execute_result"
    }
   ],
   "source": [
    "np.std()"
   ]
  },
  {
   "cell_type": "code",
   "execution_count": 1265,
   "metadata": {},
   "outputs": [],
   "source": [
    "accuracies = []\n",
    "#realizações\n",
    "for i in range(20):\n",
    "    art_copy = art.copy()\n",
    "    train = art_copy.sample(frac=0.80, random_state=i)\n",
    "    test = art_copy.drop(train.index)\n",
    "    class_1 = train[train[2] == 0]\n",
    "    class_2 = train[train[2] == 1]\n",
    "    class_3 = train[train[2] == 2]\n",
    "    mean_class_1 = np.array(class_1.iloc[0:,:2].mean())\n",
    "    mean_class_2 = np.array(class_2.iloc[0:,:2].mean())\n",
    "    mean_class_3 = np.array(class_3.iloc[0:,:2].mean())\n",
    "    cov_matrix_class_1 = np.cov(np.transpose(class_1.iloc[0:,:2]))\n",
    "    cov_matrix_class_2 = np.cov(np.transpose(class_2.iloc[0:,:2]))\n",
    "    cov_matrix_class_3 = np.cov(np.transpose(class_3.iloc[0:,:2]))\n",
    "    cov_matrices = [cov_matrix_class_1,cov_matrix_class_2,cov_matrix_class_3]\n",
    "    means = [mean_class_1,mean_class_2,mean_class_3]\n",
    "    predictions = []\n",
    "    for i in test.iloc[0:,:2].values:\n",
    "        d = predict(i,cov_matrices,means,2,3)\n",
    "        predictions.append(d)\n",
    "    a = getAccuracy(test.values,predictions)\n",
    "    accuracies.append(a)"
   ]
  },
  {
   "cell_type": "code",
   "execution_count": 79,
   "metadata": {},
   "outputs": [
    {
     "data": {
      "text/plain": [
       "81.7741935483871"
      ]
     },
     "execution_count": 79,
     "metadata": {},
     "output_type": "execute_result"
    }
   ],
   "source": [
    "np.mean(accuracies)"
   ]
  },
  {
   "cell_type": "code",
   "execution_count": null,
   "metadata": {},
   "outputs": [],
   "source": []
  },
  {
   "cell_type": "markdown",
   "metadata": {},
   "source": [
    "## Dermatology Dataset"
   ]
  },
  {
   "cell_type": "code",
   "execution_count": 106,
   "metadata": {},
   "outputs": [],
   "source": [
    "derm = pd.read_csv('derm.csv')"
   ]
  },
  {
   "cell_type": "code",
   "execution_count": 107,
   "metadata": {},
   "outputs": [],
   "source": [
    "derm['class'] = pd.to_numeric(derm['class'])\n",
    "del derm['age']"
   ]
  },
  {
   "cell_type": "code",
   "execution_count": 108,
   "metadata": {},
   "outputs": [],
   "source": [
    "derm_copy = derm.copy()\n",
    "train = derm_copy.sample(frac=0.80, random_state=2)\n",
    "test = derm_copy.drop(train.index)"
   ]
  },
  {
   "cell_type": "code",
   "execution_count": null,
   "metadata": {},
   "outputs": [],
   "source": []
  },
  {
   "cell_type": "code",
   "execution_count": null,
   "metadata": {},
   "outputs": [],
   "source": []
  },
  {
   "cell_type": "code",
   "execution_count": 109,
   "metadata": {},
   "outputs": [],
   "source": [
    "class_1 = train[train['class'] == 1]\n",
    "class_2 = train[train['class'] == 2]\n",
    "class_3 = train[train['class'] == 3]\n",
    "class_4 = train[train['class'] == 4]\n",
    "class_5 = train[train['class'] == 5]\n",
    "class_6 = train[train['class'] == 6]"
   ]
  },
  {
   "cell_type": "code",
   "execution_count": 110,
   "metadata": {},
   "outputs": [],
   "source": [
    "mean_class_1 = np.array(class_1.iloc[0:,:33].mean())\n",
    "mean_class_2 = np.array(class_2.iloc[0:,:33].mean())\n",
    "mean_class_3 = np.array(class_3.iloc[0:,:33].mean())\n",
    "mean_class_4 = np.array(class_4.iloc[0:,:33].mean())\n",
    "mean_class_5 = np.array(class_5.iloc[0:,:33].mean())\n",
    "mean_class_6 = np.array(class_6.iloc[0:,:33].mean())\n"
   ]
  },
  {
   "cell_type": "code",
   "execution_count": 111,
   "metadata": {},
   "outputs": [],
   "source": [
    "identity_matrix = np.identity(np.array(class_1.iloc[0:,:33]).shape[1])\n",
    "dirty_matrix = 0.00001 * identity_matrix"
   ]
  },
  {
   "cell_type": "code",
   "execution_count": 112,
   "metadata": {},
   "outputs": [],
   "source": [
    "cov_matrix_class_1 = np.cov(np.transpose(class_1.iloc[0:,:33])) + dirty_matrix\n",
    "cov_matrix_class_2 = np.cov(np.transpose(class_2.iloc[0:,:33])) + dirty_matrix\n",
    "cov_matrix_class_3 = np.cov(np.transpose(class_3.iloc[0:,:33])) + dirty_matrix\n",
    "cov_matrix_class_4 = np.cov(np.transpose(class_4.iloc[0:,:33])) + dirty_matrix\n",
    "cov_matrix_class_5 = np.cov(np.transpose(class_5.iloc[0:,:33])) + dirty_matrix\n",
    "cov_matrix_class_6 = np.cov(np.transpose(class_6.iloc[0:,:33])) + dirty_matrix"
   ]
  },
  {
   "cell_type": "code",
   "execution_count": 113,
   "metadata": {},
   "outputs": [],
   "source": [
    "cov_matrices = [cov_matrix_class_1,cov_matrix_class_2,cov_matrix_class_3,cov_matrix_class_4,cov_matrix_class_5,cov_matrix_class_6]\n",
    "means = [mean_class_1,mean_class_2,mean_class_3,mean_class_4,mean_class_5,mean_class_6]"
   ]
  },
  {
   "cell_type": "code",
   "execution_count": 114,
   "metadata": {},
   "outputs": [],
   "source": [
    "predictions = []\n",
    "for i in test.iloc[0:,:33].values:\n",
    "    d = predict(i,cov_matrices,means,33,6)\n",
    "    predictions.append(d)"
   ]
  },
  {
   "cell_type": "code",
   "execution_count": 115,
   "metadata": {},
   "outputs": [
    {
     "data": {
      "text/plain": [
       "82.1917808219178"
      ]
     },
     "execution_count": 115,
     "metadata": {},
     "output_type": "execute_result"
    }
   ],
   "source": [
    "getAccuracy(test.values,predictions)"
   ]
  },
  {
   "cell_type": "code",
   "execution_count": 117,
   "metadata": {},
   "outputs": [],
   "source": [
    "accuracies = []\n",
    "#realizações\n",
    "for i in range(20):\n",
    "    derm_copy = derm.copy()\n",
    "    train = derm_copy.sample(frac=0.80, random_state=i)\n",
    "    test = derm_copy.drop(train.index)\n",
    "    class_1 = train[train['class'] == 1]\n",
    "    class_2 = train[train['class'] == 2]\n",
    "    class_3 = train[train['class'] == 3]\n",
    "    class_4 = train[train['class'] == 4]\n",
    "    class_5 = train[train['class'] == 5]\n",
    "    class_6 = train[train['class'] == 6]\n",
    "    mean_class_1 = np.array(class_1.iloc[0:,:33].mean())\n",
    "    mean_class_2 = np.array(class_2.iloc[0:,:33].mean())\n",
    "    mean_class_3 = np.array(class_3.iloc[0:,:33].mean())\n",
    "    mean_class_4 = np.array(class_4.iloc[0:,:33].mean())\n",
    "    mean_class_5 = np.array(class_5.iloc[0:,:33].mean())\n",
    "    mean_class_6 = np.array(class_6.iloc[0:,:33].mean())\n",
    "    identity_matrix = np.identity(np.array(class_1.iloc[0:,:33]).shape[1])\n",
    "    dirty_matrix = 0.00001 * identity_matrix\n",
    "    cov_matrix_class_1 = np.cov(np.transpose(class_1.iloc[0:,:33])) + dirty_matrix\n",
    "    cov_matrix_class_2 = np.cov(np.transpose(class_2.iloc[0:,:33])) + dirty_matrix\n",
    "    cov_matrix_class_3 = np.cov(np.transpose(class_3.iloc[0:,:33])) + dirty_matrix\n",
    "    cov_matrix_class_4 = np.cov(np.transpose(class_4.iloc[0:,:33])) + dirty_matrix\n",
    "    cov_matrix_class_5 = np.cov(np.transpose(class_5.iloc[0:,:33])) + dirty_matrix\n",
    "    cov_matrix_class_6 = np.cov(np.transpose(class_6.iloc[0:,:33])) + dirty_matrix\n",
    "    cov_matrices = [cov_matrix_class_1,cov_matrix_class_2,cov_matrix_class_3,cov_matrix_class_4,cov_matrix_class_5,cov_matrix_class_6]\n",
    "    means = [mean_class_1,mean_class_2,mean_class_3,mean_class_4,mean_class_5,mean_class_6]\n",
    "    predictions = []\n",
    "    for i in test.iloc[0:,:33].values:\n",
    "        d = predict(i,cov_matrices,means,33,6)\n",
    "        predictions.append(d)\n",
    "    a = getAccuracy(test.values,predictions)\n",
    "    accuracies.append(a)\n",
    "    "
   ]
  },
  {
   "cell_type": "code",
   "execution_count": 119,
   "metadata": {},
   "outputs": [
    {
     "data": {
      "text/plain": [
       "86.0958904109589"
      ]
     },
     "execution_count": 119,
     "metadata": {},
     "output_type": "execute_result"
    }
   ],
   "source": [
    "np.mean(accuracies)"
   ]
  },
  {
   "cell_type": "code",
   "execution_count": 120,
   "metadata": {},
   "outputs": [
    {
     "data": {
      "text/plain": [
       "3.832557488640486"
      ]
     },
     "execution_count": 120,
     "metadata": {},
     "output_type": "execute_result"
    }
   ],
   "source": [
    "np.std(accuracies)"
   ]
  },
  {
   "cell_type": "markdown",
   "metadata": {},
   "source": [
    "## Breast Cancer"
   ]
  },
  {
   "cell_type": "code",
   "execution_count": 121,
   "metadata": {},
   "outputs": [],
   "source": [
    "cancer = pd.read_csv('breast-cancer-wisconsin.data.csv', names= ['sample_code_number','clump_thickness','uniformity_of_cell_size','uniformity_of_cell_shape','marginal_adhesion','single_epithelial_cell_size','bare_nuclei','bland_chromatin','normal_nucleoli','mitoses','class'])"
   ]
  },
  {
   "cell_type": "code",
   "execution_count": 122,
   "metadata": {},
   "outputs": [
    {
     "data": {
      "text/html": [
       "<div>\n",
       "<style scoped>\n",
       "    .dataframe tbody tr th:only-of-type {\n",
       "        vertical-align: middle;\n",
       "    }\n",
       "\n",
       "    .dataframe tbody tr th {\n",
       "        vertical-align: top;\n",
       "    }\n",
       "\n",
       "    .dataframe thead th {\n",
       "        text-align: right;\n",
       "    }\n",
       "</style>\n",
       "<table border=\"1\" class=\"dataframe\">\n",
       "  <thead>\n",
       "    <tr style=\"text-align: right;\">\n",
       "      <th></th>\n",
       "      <th>clump_thickness</th>\n",
       "      <th>uniformity_of_cell_size</th>\n",
       "      <th>uniformity_of_cell_shape</th>\n",
       "      <th>marginal_adhesion</th>\n",
       "      <th>single_epithelial_cell_size</th>\n",
       "      <th>bland_chromatin</th>\n",
       "      <th>normal_nucleoli</th>\n",
       "      <th>mitoses</th>\n",
       "      <th>class</th>\n",
       "    </tr>\n",
       "  </thead>\n",
       "  <tbody>\n",
       "    <tr>\n",
       "      <th>0</th>\n",
       "      <td>5</td>\n",
       "      <td>1</td>\n",
       "      <td>1</td>\n",
       "      <td>1</td>\n",
       "      <td>2</td>\n",
       "      <td>3</td>\n",
       "      <td>1</td>\n",
       "      <td>1</td>\n",
       "      <td>0</td>\n",
       "    </tr>\n",
       "    <tr>\n",
       "      <th>1</th>\n",
       "      <td>5</td>\n",
       "      <td>4</td>\n",
       "      <td>4</td>\n",
       "      <td>5</td>\n",
       "      <td>7</td>\n",
       "      <td>3</td>\n",
       "      <td>2</td>\n",
       "      <td>1</td>\n",
       "      <td>0</td>\n",
       "    </tr>\n",
       "    <tr>\n",
       "      <th>2</th>\n",
       "      <td>3</td>\n",
       "      <td>1</td>\n",
       "      <td>1</td>\n",
       "      <td>1</td>\n",
       "      <td>2</td>\n",
       "      <td>3</td>\n",
       "      <td>1</td>\n",
       "      <td>1</td>\n",
       "      <td>0</td>\n",
       "    </tr>\n",
       "    <tr>\n",
       "      <th>3</th>\n",
       "      <td>6</td>\n",
       "      <td>8</td>\n",
       "      <td>8</td>\n",
       "      <td>1</td>\n",
       "      <td>3</td>\n",
       "      <td>3</td>\n",
       "      <td>7</td>\n",
       "      <td>1</td>\n",
       "      <td>0</td>\n",
       "    </tr>\n",
       "    <tr>\n",
       "      <th>4</th>\n",
       "      <td>4</td>\n",
       "      <td>1</td>\n",
       "      <td>1</td>\n",
       "      <td>3</td>\n",
       "      <td>2</td>\n",
       "      <td>3</td>\n",
       "      <td>1</td>\n",
       "      <td>1</td>\n",
       "      <td>0</td>\n",
       "    </tr>\n",
       "  </tbody>\n",
       "</table>\n",
       "</div>"
      ],
      "text/plain": [
       "   clump_thickness  uniformity_of_cell_size  uniformity_of_cell_shape  \\\n",
       "0                5                        1                         1   \n",
       "1                5                        4                         4   \n",
       "2                3                        1                         1   \n",
       "3                6                        8                         8   \n",
       "4                4                        1                         1   \n",
       "\n",
       "   marginal_adhesion  single_epithelial_cell_size  bland_chromatin  \\\n",
       "0                  1                            2                3   \n",
       "1                  5                            7                3   \n",
       "2                  1                            2                3   \n",
       "3                  1                            3                3   \n",
       "4                  3                            2                3   \n",
       "\n",
       "   normal_nucleoli  mitoses  class  \n",
       "0                1        1      0  \n",
       "1                2        1      0  \n",
       "2                1        1      0  \n",
       "3                7        1      0  \n",
       "4                1        1      0  "
      ]
     },
     "execution_count": 122,
     "metadata": {},
     "output_type": "execute_result"
    }
   ],
   "source": [
    "del cancer['bare_nuclei']\n",
    "del cancer['sample_code_number']\n",
    "cancer.head()"
   ]
  },
  {
   "cell_type": "code",
   "execution_count": 123,
   "metadata": {},
   "outputs": [],
   "source": [
    "cancer_copy = cancer.copy()\n",
    "train = cancer_copy.sample(frac=0.80, random_state=5)\n",
    "test = cancer_copy.drop(train.index)"
   ]
  },
  {
   "cell_type": "code",
   "execution_count": 124,
   "metadata": {},
   "outputs": [],
   "source": [
    "class_1 = train[train['class'] == 0]\n",
    "class_2 = train[train['class'] == 1]"
   ]
  },
  {
   "cell_type": "code",
   "execution_count": 125,
   "metadata": {},
   "outputs": [],
   "source": [
    "mean_class_1 = np.array(class_1.iloc[0:,:8].mean())\n",
    "mean_class_2 = np.array(class_2.iloc[0:,:8].mean())"
   ]
  },
  {
   "cell_type": "code",
   "execution_count": 126,
   "metadata": {},
   "outputs": [],
   "source": [
    "cov_matrix_class_1 = np.cov(np.transpose(class_1.iloc[0:,:8]))\n",
    "cov_matrix_class_2 = np.cov(np.transpose(class_2.iloc[0:,:8]))"
   ]
  },
  {
   "cell_type": "code",
   "execution_count": 127,
   "metadata": {},
   "outputs": [],
   "source": [
    "cov_matrices = [cov_matrix_class_1,cov_matrix_class_2]\n",
    "means = [mean_class_1,mean_class_2]"
   ]
  },
  {
   "cell_type": "code",
   "execution_count": 128,
   "metadata": {},
   "outputs": [],
   "source": [
    "predictions = []\n",
    "for i in test.iloc[0:,:8].values:\n",
    "    d = predict(i,cov_matrices,means,8,2)\n",
    "    predictions.append(d)"
   ]
  },
  {
   "cell_type": "code",
   "execution_count": 129,
   "metadata": {},
   "outputs": [
    {
     "data": {
      "text/plain": [
       "0.0"
      ]
     },
     "execution_count": 129,
     "metadata": {},
     "output_type": "execute_result"
    }
   ],
   "source": [
    "getAccuracy(test.values,predictions)"
   ]
  },
  {
   "cell_type": "code",
   "execution_count": 130,
   "metadata": {},
   "outputs": [],
   "source": [
    "accuracies = []\n",
    "#realizações\n",
    "for i in range(20):\n",
    "    cancer_copy = cancer.copy()\n",
    "    train = cancer_copy.sample(frac=0.80, random_state=i)\n",
    "    test = cancer_copy.drop(train.index)\n",
    "    class_1 = train[train['class'] == 0]\n",
    "    class_2 = train[train['class'] == 1]\n",
    "    mean_class_1 = np.array(class_1.iloc[0:,:8].mean())\n",
    "    mean_class_2 = np.array(class_2.iloc[0:,:8].mean())\n",
    "    cov_matrix_class_1 = np.cov(np.transpose(class_1.iloc[0:,:8]))\n",
    "    cov_matrix_class_2 = np.cov(np.transpose(class_2.iloc[0:,:8]))\n",
    "    cov_matrices = [cov_matrix_class_1,cov_matrix_class_2]\n",
    "    means = [mean_class_1,mean_class_2]\n",
    "    predictions = []\n",
    "    for i in test.iloc[0:,:8].values:\n",
    "        d = predict(i,cov_matrices,means,8,2)\n",
    "        predictions.append(d)\n",
    "    a = getAccuracy(test.values,predictions)\n",
    "    accuracies.append(a)\n",
    "    "
   ]
  },
  {
   "cell_type": "code",
   "execution_count": 131,
   "metadata": {},
   "outputs": [
    {
     "data": {
      "text/plain": [
       "0.7142857142857142"
      ]
     },
     "execution_count": 131,
     "metadata": {},
     "output_type": "execute_result"
    }
   ],
   "source": [
    "np.mean(accuracies)"
   ]
  },
  {
   "cell_type": "code",
   "execution_count": 132,
   "metadata": {},
   "outputs": [
    {
     "data": {
      "text/plain": [
       "0.5532833351724882"
      ]
     },
     "execution_count": 132,
     "metadata": {},
     "output_type": "execute_result"
    }
   ],
   "source": [
    "np.std(accuracies)"
   ]
  },
  {
   "cell_type": "code",
   "execution_count": null,
   "metadata": {},
   "outputs": [],
   "source": []
  }
 ],
 "metadata": {
  "kernelspec": {
   "display_name": "Python 3",
   "language": "python",
   "name": "python3"
  },
  "language_info": {
   "codemirror_mode": {
    "name": "ipython",
    "version": 3
   },
   "file_extension": ".py",
   "mimetype": "text/x-python",
   "name": "python",
   "nbconvert_exporter": "python",
   "pygments_lexer": "ipython3",
   "version": "3.7.3"
  }
 },
 "nbformat": 4,
 "nbformat_minor": 2
}
